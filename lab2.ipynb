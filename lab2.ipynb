{
 "cells": [
  {
   "cell_type": "markdown",
   "metadata": {},
   "source": [
    "Euclidian distance"
   ]
  },
  {
   "cell_type": "code",
   "execution_count": 1,
   "metadata": {},
   "outputs": [
    {
     "name": "stdout",
     "output_type": "stream",
     "text": [
      "\n",
      "Euclidian Distance Between Two Points: 4.47213595499958\n"
     ]
    }
   ],
   "source": [
    "import math\n",
    "def euclidian_distance(a,b):\n",
    "    dist=0 \n",
    "    for i in range(len(a)):\n",
    "        dist+= (a[i]-b[i])**2\n",
    "    return math.sqrt(dist)\n",
    "    \n",
    "pointA = [4,9,6]\n",
    "pointB = [4,5,4]\n",
    "print(\"\\nEuclidian Distance Between Two Points:\",euclidian_distance(pointA, pointB))\n",
    "\n",
    "        \n"
   ]
  },
  {
   "cell_type": "markdown",
   "metadata": {},
   "source": [
    "Manhattan distance"
   ]
  },
  {
   "cell_type": "code",
   "execution_count": 3,
   "metadata": {},
   "outputs": [
    {
     "name": "stdout",
     "output_type": "stream",
     "text": [
      "manhattan distance from (1, 2) to (3, 4):4\n",
      "Manhattan distance from (1, 2) to (5, 6) :8\n"
     ]
    }
   ],
   "source": [
    "def manhattan_distance(a,b):\n",
    "    dist=0\n",
    "    for i in range(len(a)):\n",
    "        dist=dist+abs(a[i]-b[i])\n",
    "    return dist\n",
    "\n",
    "a=(1,2)\n",
    "b=(3,4)\n",
    "c=(5,6)\n",
    "print(f\"manhattan distance from {a} to {b}:{manhattan_distance(a,b)}\")\n",
    "print(f\"Manhattan distance from {a} to {c} :{manhattan_distance(a,c)}\")"
   ]
  },
  {
   "cell_type": "markdown",
   "metadata": {},
   "source": [
    "K-nn classifier"
   ]
  },
  {
   "cell_type": "code",
   "execution_count": 17,
   "metadata": {},
   "outputs": [
    {
     "name": "stdout",
     "output_type": "stream",
     "text": [
      "Predicted suitability: S\n"
     ]
    }
   ],
   "source": [
    "import numpy as np\n",
    "def k_nearest_neighbors(training_data, labels, query, k):\n",
    "    \n",
    "    distances = [euclidian_distance(query, data) for data in training_data]\n",
    "    \n",
    "    # Get indices of k nearest neighbors\n",
    "    nearest_indices = np.argsort(distances)[:k]\n",
    "    \n",
    "    # Get labels of k nearest neighbors\n",
    "    nearest_labels = [labels[i] for i in nearest_indices]\n",
    "    \n",
    "    # Find the most common label among the nearest neighbors\n",
    "    predicted_label = max(set(nearest_labels), key=nearest_labels.count)\n",
    "    \n",
    "    return predicted_label\n",
    "# train data with a sample data det about housinh\n",
    "training_data = [\n",
    "    [1200, 3, 250000],  # House 1\n",
    "    [1500, 4, 300000],  # House 2\n",
    "    [1000, 2, 200000],  # House 3\n",
    "    [1800, 4, 350000],  # House 4\n",
    "    [900, 2, 180000],   # House 5\n",
    "]\n",
    "\n",
    "# Labels indicating if the house is suitable for a small family  or a large family \n",
    "labels = ['S', 'L', 'S', 'L', 'S']\n",
    "#the house to be predicted\n",
    "query_house = [1400, 3, 270000]\n",
    "\n",
    "# Number of neighbors to consider\n",
    "k = 3\n",
    "predicted_suitability = k_nearest_neighbors(training_data, labels, query_house, k)\n",
    "print(\"Predicted suitability:\", predicted_suitability)\n"
   ]
  },
  {
   "cell_type": "code",
   "execution_count": 19,
   "metadata": {},
   "outputs": [
    {
     "name": "stdout",
     "output_type": "stream",
     "text": [
      "Label Encoded Colors: {'blue': 0, 'green': 1, 'red': 2, 'yellow': 3}\n"
     ]
    }
   ],
   "source": [
    "def label_encoding(categories):\n",
    "    unique_categories = sorted(set(categories))\n",
    "    \n",
    "    # Create a dictionary to map categories to numeric labels\n",
    "    label_dict = {cat: i for i, cat in enumerate(unique_categories)}\n",
    "    \n",
    "    return label_dict\n",
    "\n",
    "colors = ['red', 'blue', 'green', 'blue', 'red', 'yellow']\n",
    "\n",
    "# Convert categorical variables to numeric labels using label encoding\n",
    "label_encoded_colors = label_encoding(colors)\n",
    "print(\"Label Encoded Colors:\", label_encoded_colors)\n"
   ]
  }
 ],
 "metadata": {
  "kernelspec": {
   "display_name": "Python 3",
   "language": "python",
   "name": "python3"
  },
  "language_info": {
   "codemirror_mode": {
    "name": "ipython",
    "version": 3
   },
   "file_extension": ".py",
   "mimetype": "text/x-python",
   "name": "python",
   "nbconvert_exporter": "python",
   "pygments_lexer": "ipython3",
   "version": "3.11.4"
  }
 },
 "nbformat": 4,
 "nbformat_minor": 2
}
